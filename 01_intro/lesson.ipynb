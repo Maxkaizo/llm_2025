{
 "cells": [
  {
   "cell_type": "markdown",
   "id": "07ae1f0d",
   "metadata": {},
   "source": [
    "# initial tests"
   ]
  },
  {
   "cell_type": "code",
   "execution_count": 1,
   "id": "3da10c12",
   "metadata": {},
   "outputs": [
    {
     "data": {
      "text/plain": [
       "'In a quiet village nestled between rolling hills, a curious cat named Whiskers discovered a hidden path in the forest. One day, Whiskers followed the path and stumbled upon a garden filled with talking flowers. The flowers shared tales of ancient times and whispered secrets of the universe. Enchanted, Whiskers visited the garden every day, learning and growing wiser. The villagers noticed his newfound wisdom and often sought his advice, making him the most respected cat in the village.'"
      ]
     },
     "execution_count": 1,
     "metadata": {},
     "output_type": "execute_result"
    }
   ],
   "source": [
    "import os\n",
    "from dotenv import load_dotenv\n",
    "from openai import OpenAI\n",
    "\n",
    "# Cargar .env\n",
    "load_dotenv()\n",
    "api_key = os.getenv(\"OPENAI_API_KEY\")\n",
    "\n",
    "# Nuevo cliente\n",
    "client = OpenAI(api_key=api_key)\n",
    "\n",
    "# Hacer la pregunta\n",
    "response = client.chat.completions.create(\n",
    "    model=\"gpt-4o\",\n",
    "    messages=[\n",
    "        {\"role\": \"user\", \"content\": \"tell my a story in 5 lines\"}\n",
    "    ],\n",
    "    temperature=0.5\n",
    ")\n",
    "\n",
    "# Mostrar resultado\n",
    "response.choices[0].message.content"
   ]
  },
  {
   "cell_type": "code",
   "execution_count": null,
   "id": "dbd6803e",
   "metadata": {},
   "outputs": [],
   "source": []
  }
 ],
 "metadata": {
  "kernelspec": {
   "display_name": "llm_2025",
   "language": "python",
   "name": "python3"
  },
  "language_info": {
   "codemirror_mode": {
    "name": "ipython",
    "version": 3
   },
   "file_extension": ".py",
   "mimetype": "text/x-python",
   "name": "python",
   "nbconvert_exporter": "python",
   "pygments_lexer": "ipython3",
   "version": "3.13.4"
  }
 },
 "nbformat": 4,
 "nbformat_minor": 5
}
