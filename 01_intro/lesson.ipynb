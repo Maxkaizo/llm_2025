{
 "cells": [
  {
   "cell_type": "markdown",
   "id": "07ae1f0d",
   "metadata": {},
   "source": [
    "# initial tests"
   ]
  },
  {
   "cell_type": "code",
   "execution_count": 5,
   "id": "3da10c12",
   "metadata": {},
   "outputs": [
    {
     "data": {
      "text/plain": [
       "\"Once in a bustling town, a curious cat named Luna discovered a mysterious, glowing key. Intrigued, she followed its light to an ancient, forgotten garden hidden behind the library. There, she met Oliver, a wise old owl who had been waiting for someone brave enough to unlock the garden's secrets. Together, they uncovered a treasure trove of enchanted books that brought stories to life. From that day on, Luna and Oliver shared the garden's magic with the townspeople, sparking imagination and wonder in all who visited.\""
      ]
     },
     "execution_count": 5,
     "metadata": {},
     "output_type": "execute_result"
    }
   ],
   "source": [
    "import os\n",
    "from dotenv import load_dotenv\n",
    "from openai import OpenAI\n",
    "\n",
    "# Cargar .env\n",
    "load_dotenv()\n",
    "api_key = os.getenv(\"OPENAI_API_KEY\")\n",
    "\n",
    "# Nuevo cliente\n",
    "client = OpenAI(api_key=api_key)\n",
    "\n",
    "# Hacer la pregunta\n",
    "response = client.chat.completions.create(\n",
    "    model=\"gpt-4o\",\n",
    "    messages=[\n",
    "        {\"role\": \"user\", \"content\": \"tell my a story in 5 lines\"}\n",
    "    ],\n",
    "    temperature=0.5\n",
    ")\n",
    "\n",
    "# Mostrar resultado\n",
    "response.choices[0].message.content"
   ]
  },
  {
   "cell_type": "code",
   "execution_count": null,
   "id": "dbd6803e",
   "metadata": {},
   "outputs": [],
   "source": []
  }
 ],
 "metadata": {
  "kernelspec": {
   "display_name": "llm_2025",
   "language": "python",
   "name": "python3"
  },
  "language_info": {
   "codemirror_mode": {
    "name": "ipython",
    "version": 3
   },
   "file_extension": ".py",
   "mimetype": "text/x-python",
   "name": "python",
   "nbconvert_exporter": "python",
   "pygments_lexer": "ipython3",
   "version": "3.13.4"
  }
 },
 "nbformat": 4,
 "nbformat_minor": 5
}
