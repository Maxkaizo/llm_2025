{
 "cells": [
  {
   "cell_type": "code",
   "execution_count": 14,
   "id": "6e7d89f3",
   "metadata": {},
   "outputs": [],
   "source": [
    "import numpy as np\n",
    "from fastembed import TextEmbedding"
   ]
  },
  {
   "cell_type": "markdown",
   "id": "d4c31ae2",
   "metadata": {},
   "source": [
    "# Q1. Embedding the query"
   ]
  },
  {
   "cell_type": "code",
   "execution_count": 17,
   "id": "c6c11fd1",
   "metadata": {},
   "outputs": [
    {
     "name": "stdout",
     "output_type": "stream",
     "text": [
      "Embedding with model: jinaai/jina-embeddings-v2-small-en.\n",
      "Array size: 512\n"
     ]
    }
   ],
   "source": [
    "model_handle = \"jinaai/jina-embeddings-v2-small-en\"\n",
    "\n",
    "documents: list[str] = [\"I just discovered the course. Can I join now?\"]\n",
    "\n",
    "embedding_model = TextEmbedding(model_name=model_handle)\n",
    "print(f\"Embedding with model: {model_handle}.\")\n",
    "\n",
    "embeddings_generator = embedding_model.embed(documents)\n",
    "embeddings_list = list(embeddings_generator)\n",
    "size = len(embeddings_list[0])\n",
    "print(f'Array size: {size}')"
   ]
  },
  {
   "cell_type": "code",
   "execution_count": 18,
   "id": "4dabe669",
   "metadata": {},
   "outputs": [
    {
     "data": {
      "text/plain": [
       "np.float64(-0.11726373885183883)"
      ]
     },
     "execution_count": 18,
     "metadata": {},
     "output_type": "execute_result"
    }
   ],
   "source": [
    "embeddings_list[0].min()"
   ]
  },
  {
   "cell_type": "code",
   "execution_count": null,
   "id": "8341a0c2",
   "metadata": {},
   "outputs": [],
   "source": []
  }
 ],
 "metadata": {
  "kernelspec": {
   "display_name": "llm_2025",
   "language": "python",
   "name": "python3"
  },
  "language_info": {
   "codemirror_mode": {
    "name": "ipython",
    "version": 3
   },
   "file_extension": ".py",
   "mimetype": "text/x-python",
   "name": "python",
   "nbconvert_exporter": "python",
   "pygments_lexer": "ipython3",
   "version": "3.13.4"
  }
 },
 "nbformat": 4,
 "nbformat_minor": 5
}
