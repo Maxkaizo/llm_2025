{
 "cells": [
  {
   "cell_type": "code",
   "execution_count": 1,
   "id": "62673e62",
   "metadata": {},
   "outputs": [],
   "source": [
    "import requests\n",
    "import dlt"
   ]
  },
  {
   "cell_type": "code",
   "execution_count": 2,
   "id": "0fcfa684",
   "metadata": {},
   "outputs": [],
   "source": [
    "@dlt.resource\n",
    "def zoomcamp_data():\n",
    "    docs_url = 'https://github.com/alexeygrigorev/llm-rag-workshop/raw/main/notebooks/documents.json'\n",
    "    docs_response = requests.get(docs_url)\n",
    "    documents_raw = docs_response.json()\n",
    "\n",
    "    for course in documents_raw:\n",
    "        course_name = course['course']\n",
    "\n",
    "        for doc in course['documents']:\n",
    "            doc['course'] = course_name\n",
    "            yield doc"
   ]
  },
  {
   "cell_type": "code",
   "execution_count": 3,
   "id": "4cdef00a",
   "metadata": {},
   "outputs": [],
   "source": [
    "from dlt.destinations import qdrant\n",
    "\n",
    "qdrant_destination = qdrant(\n",
    "  qd_path=\"db.qdrant\", \n",
    ")"
   ]
  },
  {
   "cell_type": "code",
   "execution_count": 4,
   "id": "2cb9df56",
   "metadata": {},
   "outputs": [
    {
     "data": {
      "application/vnd.jupyter.widget-view+json": {
       "model_id": "968fa346cc7c4d3b90792dc31fe22df9",
       "version_major": 2,
       "version_minor": 0
      },
      "text/plain": [
       "Fetching 5 files:   0%|          | 0/5 [00:00<?, ?it/s]"
      ]
     },
     "metadata": {},
     "output_type": "display_data"
    },
    {
     "data": {
      "application/vnd.jupyter.widget-view+json": {
       "model_id": "52e4f281ff22481199d1eb687700b3c6",
       "version_major": 2,
       "version_minor": 0
      },
      "text/plain": [
       "special_tokens_map.json:   0%|          | 0.00/125 [00:00<?, ?B/s]"
      ]
     },
     "metadata": {},
     "output_type": "display_data"
    },
    {
     "data": {
      "application/vnd.jupyter.widget-view+json": {
       "model_id": "45c204bcf18345a28e6c404471974813",
       "version_major": 2,
       "version_minor": 0
      },
      "text/plain": [
       "tokenizer.json: 0.00B [00:00, ?B/s]"
      ]
     },
     "metadata": {},
     "output_type": "display_data"
    },
    {
     "data": {
      "application/vnd.jupyter.widget-view+json": {
       "model_id": "217fc0e18c774c58be3e3644cbd42cc5",
       "version_major": 2,
       "version_minor": 0
      },
      "text/plain": [
       "tokenizer_config.json:   0%|          | 0.00/366 [00:00<?, ?B/s]"
      ]
     },
     "metadata": {},
     "output_type": "display_data"
    },
    {
     "data": {
      "application/vnd.jupyter.widget-view+json": {
       "model_id": "36389c94b0a44aeba467728f8262db31",
       "version_major": 2,
       "version_minor": 0
      },
      "text/plain": [
       "config.json:   0%|          | 0.00/701 [00:00<?, ?B/s]"
      ]
     },
     "metadata": {},
     "output_type": "display_data"
    },
    {
     "data": {
      "application/vnd.jupyter.widget-view+json": {
       "model_id": "d9b9271386cb46efbd34b592b3a6ab8b",
       "version_major": 2,
       "version_minor": 0
      },
      "text/plain": [
       "model_optimized.onnx:   0%|          | 0.00/133M [00:00<?, ?B/s]"
      ]
     },
     "metadata": {},
     "output_type": "display_data"
    },
    {
     "name": "stdout",
     "output_type": "stream",
     "text": [
      "Run started at 2025-07-16 14:47:44.867426+00:00 and COMPLETED in 55.41 seconds with 4 steps.\n",
      "Step extract COMPLETED in 1.12 seconds.\n",
      "\n",
      "Load package 1752677298.2615843 is EXTRACTED and NOT YET LOADED to the destination and contains no failed jobs\n",
      "\n",
      "Step normalize COMPLETED in 0.19 seconds.\n",
      "Normalized data for the following tables:\n",
      "- zoomcamp_data: 948 row(s)\n",
      "\n",
      "Load package 1752677298.2615843 is NORMALIZED and NOT YET LOADED to the destination and contains no failed jobs\n",
      "\n",
      "Step load COMPLETED in 20.64 seconds.\n",
      "Pipeline zoomcamp_pipeline load step completed in 20.59 seconds\n",
      "1 load package(s) were loaded to destination qdrant and into dataset zoomcamp_tagged_data\n",
      "The qdrant destination used /home/maxkaizo/llm_2025/dlt_workshop/db.qdrant location to store data\n",
      "Load package 1752677298.2615843 is LOADED and contains no failed jobs\n",
      "\n",
      "Step run COMPLETED in 55.41 seconds.\n",
      "Pipeline zoomcamp_pipeline load step completed in 20.59 seconds\n",
      "1 load package(s) were loaded to destination qdrant and into dataset zoomcamp_tagged_data\n",
      "The qdrant destination used /home/maxkaizo/llm_2025/dlt_workshop/db.qdrant location to store data\n",
      "Load package 1752677298.2615843 is LOADED and contains no failed jobs\n"
     ]
    }
   ],
   "source": [
    "pipeline = dlt.pipeline(\n",
    "    pipeline_name=\"zoomcamp_pipeline\",\n",
    "    destination=qdrant_destination,\n",
    "    dataset_name=\"zoomcamp_tagged_data\"\n",
    "\n",
    ")\n",
    "load_info = pipeline.run(zoomcamp_data())\n",
    "print(pipeline.last_trace)"
   ]
  },
  {
   "cell_type": "code",
   "execution_count": 5,
   "id": "79cbfd52",
   "metadata": {},
   "outputs": [
    {
     "name": "stdout",
     "output_type": "stream",
     "text": [
      "{'aliases': {},\n",
      " 'collections': {'zoomcamp_tagged_data': {'hnsw_config': None,\n",
      "                                          'init_from': None,\n",
      "                                          'on_disk_payload': None,\n",
      "                                          'optimizers_config': None,\n",
      "                                          'quantization_config': None,\n",
      "                                          'replication_factor': None,\n",
      "                                          'shard_number': None,\n",
      "                                          'sharding_method': None,\n",
      "                                          'sparse_vectors': None,\n",
      "                                          'strict_mode_config': None,\n",
      "                                          'vectors': {'fast-bge-small-en': {'datatype': None,\n",
      "                                                                            'distance': 'Cosine',\n",
      "                                                                            'hnsw_config': None,\n",
      "                                                                            'multivector_config': None,\n",
      "                                                                            'on_disk': None,\n",
      "                                                                            'quantization_config': None,\n",
      "                                                                            'size': 384}},\n",
      "                                          'wal_config': None,\n",
      "                                          'write_consistency_factor': None},\n",
      "                 'zoomcamp_tagged_data__dlt_loads': {'hnsw_config': None,\n",
      "                                                     'init_from': None,\n",
      "                                                     'on_disk_payload': None,\n",
      "                                                     'optimizers_config': None,\n",
      "                                                     'quantization_config': None,\n",
      "                                                     'replication_factor': None,\n",
      "                                                     'shard_number': None,\n",
      "                                                     'sharding_method': None,\n",
      "                                                     'sparse_vectors': None,\n",
      "                                                     'strict_mode_config': None,\n",
      "                                                     'vectors': {'fast-bge-small-en': {'datatype': None,\n",
      "                                                                                       'distance': 'Cosine',\n",
      "                                                                                       'hnsw_config': None,\n",
      "                                                                                       'multivector_config': None,\n",
      "                                                                                       'on_disk': None,\n",
      "                                                                                       'quantization_config': None,\n",
      "                                                                                       'size': 384}},\n",
      "                                                     'wal_config': None,\n",
      "                                                     'write_consistency_factor': None},\n",
      "                 'zoomcamp_tagged_data__dlt_pipeline_state': {'hnsw_config': None,\n",
      "                                                              'init_from': None,\n",
      "                                                              'on_disk_payload': None,\n",
      "                                                              'optimizers_config': None,\n",
      "                                                              'quantization_config': None,\n",
      "                                                              'replication_factor': None,\n",
      "                                                              'shard_number': None,\n",
      "                                                              'sharding_method': None,\n",
      "                                                              'sparse_vectors': None,\n",
      "                                                              'strict_mode_config': None,\n",
      "                                                              'vectors': {'fast-bge-small-en': {'datatype': None,\n",
      "                                                                                                'distance': 'Cosine',\n",
      "                                                                                                'hnsw_config': None,\n",
      "                                                                                                'multivector_config': None,\n",
      "                                                                                                'on_disk': None,\n",
      "                                                                                                'quantization_config': None,\n",
      "                                                                                                'size': 384}},\n",
      "                                                              'wal_config': None,\n",
      "                                                              'write_consistency_factor': None},\n",
      "                 'zoomcamp_tagged_data__dlt_version': {'hnsw_config': None,\n",
      "                                                       'init_from': None,\n",
      "                                                       'on_disk_payload': None,\n",
      "                                                       'optimizers_config': None,\n",
      "                                                       'quantization_config': None,\n",
      "                                                       'replication_factor': None,\n",
      "                                                       'shard_number': None,\n",
      "                                                       'sharding_method': None,\n",
      "                                                       'sparse_vectors': None,\n",
      "                                                       'strict_mode_config': None,\n",
      "                                                       'vectors': {'fast-bge-small-en': {'datatype': None,\n",
      "                                                                                         'distance': 'Cosine',\n",
      "                                                                                         'hnsw_config': None,\n",
      "                                                                                         'multivector_config': None,\n",
      "                                                                                         'on_disk': None,\n",
      "                                                                                         'quantization_config': None,\n",
      "                                                                                         'size': 384}},\n",
      "                                                       'wal_config': None,\n",
      "                                                       'write_consistency_factor': None},\n",
      "                 'zoomcamp_tagged_data_zoomcamp_data': {'hnsw_config': None,\n",
      "                                                        'init_from': None,\n",
      "                                                        'on_disk_payload': None,\n",
      "                                                        'optimizers_config': None,\n",
      "                                                        'quantization_config': None,\n",
      "                                                        'replication_factor': None,\n",
      "                                                        'shard_number': None,\n",
      "                                                        'sharding_method': None,\n",
      "                                                        'sparse_vectors': None,\n",
      "                                                        'strict_mode_config': None,\n",
      "                                                        'vectors': {'fast-bge-small-en': {'datatype': None,\n",
      "                                                                                          'distance': 'Cosine',\n",
      "                                                                                          'hnsw_config': None,\n",
      "                                                                                          'multivector_config': None,\n",
      "                                                                                          'on_disk': None,\n",
      "                                                                                          'quantization_config': None,\n",
      "                                                                                          'size': 384}},\n",
      "                                                        'wal_config': None,\n",
      "                                                        'write_consistency_factor': None}}}\n"
     ]
    }
   ],
   "source": [
    "import pprint\n",
    "import json\n",
    "\n",
    "# Open and read the JSON file\n",
    "with open('db.qdrant/meta.json', 'r') as file:\n",
    "    data = json.load(file)\n",
    "\n",
    "# Print the data\n",
    "pprint.pprint(data)"
   ]
  },
  {
   "cell_type": "code",
   "execution_count": 6,
   "id": "6d12ec70",
   "metadata": {},
   "outputs": [
    {
     "data": {
      "text/plain": [
       "{'fast-bge-small-en': {'size': 384,\n",
       "  'distance': 'Cosine',\n",
       "  'hnsw_config': None,\n",
       "  'quantization_config': None,\n",
       "  'on_disk': None,\n",
       "  'datatype': None,\n",
       "  'multivector_config': None}}"
      ]
     },
     "execution_count": 6,
     "metadata": {},
     "output_type": "execute_result"
    }
   ],
   "source": [
    "data['collections']['zoomcamp_tagged_data']['vectors']"
   ]
  },
  {
   "cell_type": "code",
   "execution_count": null,
   "id": "f71be1fb",
   "metadata": {},
   "outputs": [],
   "source": []
  }
 ],
 "metadata": {
  "kernelspec": {
   "display_name": "llm_2025",
   "language": "python",
   "name": "python3"
  },
  "language_info": {
   "codemirror_mode": {
    "name": "ipython",
    "version": 3
   },
   "file_extension": ".py",
   "mimetype": "text/x-python",
   "name": "python",
   "nbconvert_exporter": "python",
   "pygments_lexer": "ipython3",
   "version": "3.13.4"
  }
 },
 "nbformat": 4,
 "nbformat_minor": 5
}
